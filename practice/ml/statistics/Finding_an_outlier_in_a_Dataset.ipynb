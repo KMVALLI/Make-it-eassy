{
  "cells": [
    {
      "cell_type": "markdown",
      "metadata": {
        "id": "QsVSdD3NM12r"
      },
      "source": [
        "### What is an outlier?\n",
        "An outlier is a data point in a data set that is distant from all other observations. A data point that lies outside the overall distribution of the dataset."
      ]
    },
    {
      "cell_type": "code",
      "source": [],
      "metadata": {
        "id": "INGGHzV5Nwha"
      },
      "execution_count": null,
      "outputs": []
    },
    {
      "cell_type": "code",
      "source": [
        "import numpy as np\n",
        "import matplotlib.pyplot as plt\n",
        "%matplotlib inline"
      ],
      "metadata": {
        "id": "t9CceGXqM5-n"
      },
      "execution_count": 4,
      "outputs": []
    },
    {
      "cell_type": "markdown",
      "source": [
        "Certainly! The line %matplotlib inline is a special command used in Jupyter Notebook that tells it to display plots and charts within the notebook itself. It makes your charts appear directly below the code that generates them, so you can see and interact with the visualizations as part of your notebook. It's a handy feature for data analysis and visualization in Jupyter Notebook, as it keeps everything in one place for easier understanding and exploration."
      ],
      "metadata": {
        "id": "ul4Sh-hQNvfm"
      }
    },
    {
      "cell_type": "markdown",
      "metadata": {
        "id": "rzw5jQ1BM12t"
      },
      "source": [
        "### What are the criteria to identify an outlier?\n",
        "\n",
        "1. Data point that falls outside of 1.5 times of an interquartile range above the 3rd quartile and below the 1st quartile\n",
        "2. Data point that falls outside of 3 standard deviations. we can use a z score and if the z score falls outside of 2 standard deviation\n",
        "\n",
        "### What is the reason for an outlier to exists in a dataset?\n",
        "\n",
        "1. Variability in the data\n",
        "2. An experimental measurement error\n",
        "\n",
        "### What are the impacts of having outliers in a dataset?\n",
        "\n",
        "1. It causes various problems during our statistical analysis\n",
        "2. It may cause a significant impact on the mean and the standard deviation\n",
        "\n",
        "### Various ways of finding the outlier.\n",
        "1. Using scatter plots\n",
        "2. Box plot\n",
        "3. using z score\n",
        "4. using the IQR interquantile range\n",
        "\n"
      ]
    },
    {
      "cell_type": "code",
      "execution_count": 5,
      "metadata": {
        "id": "xgyaDnsJM12u"
      },
      "outputs": [],
      "source": [
        "dataset= [11,10,12,14,12,15,14,13,15,102,12,14,17,19,107, 10,13,12,14,12,108,12,11,14,13,15,10,15,12,10,14,13,15,10]"
      ]
    },
    {
      "cell_type": "markdown",
      "metadata": {
        "id": "sfPEss5RM12u"
      },
      "source": [
        "## Detecting outlier using Z score\n",
        "\n",
        "### Using Z score\n",
        "\n",
        "Formula for Z score = (Observation — Mean)/Standard Deviation\n",
        "\n",
        "z = (X — μ) / σ"
      ]
    },
    {
      "cell_type": "code",
      "source": [
        "out_liers = []\n",
        "\n",
        "def detectingoutliers_indataset(data):\n",
        "\n",
        "  limit = 3\n",
        "  mean = np.mean(data)\n",
        "  stnd = np.std(data)\n",
        "\n",
        "  for i in data:\n",
        "    z_score = ((i -mean))/stnd\n",
        "\n",
        "    if np.abs(z_score) > limit:\n",
        "      out_liers.append(i)\n",
        "  return out_liers\n",
        "\n",
        "\n",
        "\n",
        "print (detectingoutliers_indataset(dataset))"
      ],
      "metadata": {
        "colab": {
          "base_uri": "https://localhost:8080/"
        },
        "id": "u4FhznN-Oshk",
        "outputId": "cb6e59f3-5f68-4966-b1b3-7db4b2a1b085"
      },
      "execution_count": 10,
      "outputs": [
        {
          "output_type": "stream",
          "name": "stdout",
          "text": [
            "[102, 107, 108]\n"
          ]
        }
      ]
    },
    {
      "cell_type": "code",
      "execution_count": null,
      "metadata": {
        "id": "6Rh8hjB6M12z"
      },
      "outputs": [],
      "source": [
        "outliers=[]\n",
        "def detect_outliers(data):\n",
        "\n",
        "    threshold=3\n",
        "    mean = np.mean(data)\n",
        "    std =np.std(data)\n",
        "\n",
        "\n",
        "    for i in data:\n",
        "        z_score= (i - mean)/std\n",
        "        if np.abs(z_score) > threshold:\n",
        "            outliers.append(y)\n",
        "    return outliers"
      ]
    },
    {
      "cell_type": "code",
      "execution_count": null,
      "metadata": {
        "id": "8rWbbgT0M120"
      },
      "outputs": [],
      "source": [
        "outlier_pt=detect_outliers(dataset)"
      ]
    },
    {
      "cell_type": "code",
      "execution_count": null,
      "metadata": {
        "id": "ma3CDTW4M120",
        "outputId": "3b9c79e0-899c-4d05-ddb7-d0785e7dd136"
      },
      "outputs": [
        {
          "data": {
            "text/plain": [
              "[102, 107, 108]"
            ]
          },
          "execution_count": 12,
          "metadata": {},
          "output_type": "execute_result"
        }
      ],
      "source": [
        "outlier_pt"
      ]
    },
    {
      "cell_type": "markdown",
      "metadata": {
        "id": "V-QvnUWJM120"
      },
      "source": [
        "## InterQuantile Range\n",
        "\n",
        "75%- 25% values in a dataset\n",
        "\n",
        "### Steps\n",
        "#### 1. Arrange the data in increasing order\n",
        "#### 2. Calculate first(q1) and third quartile(q3)\n",
        "#### 3. Find interquartile range (q3-q1)\n",
        "#### 4.Find lower bound q1*1.5\n",
        "#### 5.Find upper bound q3*1.5\n",
        "\n",
        "Anything that lies outside of lower and upper bound is an outlier"
      ]
    },
    {
      "cell_type": "code",
      "execution_count": null,
      "metadata": {
        "id": "wChURI--M120",
        "outputId": "6dcc6e1d-8217-4830-ed76-cf06730cf1e5"
      },
      "outputs": [
        {
          "data": {
            "text/plain": [
              "[10,\n",
              " 10,\n",
              " 10,\n",
              " 10,\n",
              " 10,\n",
              " 11,\n",
              " 11,\n",
              " 12,\n",
              " 12,\n",
              " 12,\n",
              " 12,\n",
              " 12,\n",
              " 12,\n",
              " 12,\n",
              " 13,\n",
              " 13,\n",
              " 13,\n",
              " 13,\n",
              " 14,\n",
              " 14,\n",
              " 14,\n",
              " 14,\n",
              " 14,\n",
              " 14,\n",
              " 15,\n",
              " 15,\n",
              " 15,\n",
              " 15,\n",
              " 15,\n",
              " 17,\n",
              " 19,\n",
              " 102,\n",
              " 107,\n",
              " 108]"
            ]
          },
          "execution_count": 13,
          "metadata": {},
          "output_type": "execute_result"
        }
      ],
      "source": [
        "## Perform all the steps of IQR\n",
        "sorted(dataset)"
      ]
    },
    {
      "cell_type": "code",
      "execution_count": 11,
      "metadata": {
        "id": "ZtvOPvLqM121"
      },
      "outputs": [],
      "source": [
        "\n",
        "# variable 1 , variable2 =bnp.percentile(dataset[percentage percentage])\n",
        "quantile1, quantile3= np.percentile(dataset,[25,75])\n"
      ]
    },
    {
      "cell_type": "code",
      "execution_count": null,
      "metadata": {
        "id": "DW-CzBu6M121",
        "outputId": "3b41172e-857b-41de-de1e-6e704dc93867"
      },
      "outputs": [
        {
          "name": "stdout",
          "output_type": "stream",
          "text": [
            "12.0 15.0\n"
          ]
        }
      ],
      "source": [
        "print(quantile1,quantile3)"
      ]
    },
    {
      "cell_type": "code",
      "execution_count": null,
      "metadata": {
        "id": "TSSw0O0lM121"
      },
      "outputs": [],
      "source": [
        "## Find the IQR\n",
        "\n",
        "iqr_value=quantile3-quantile1\n",
        "print(iqr_value)"
      ]
    },
    {
      "cell_type": "code",
      "execution_count": null,
      "metadata": {
        "id": "2LSGl8hAM121"
      },
      "outputs": [],
      "source": [
        "## Find the lower bound value and the higher bound value\n",
        "\n",
        "lower_bound_val = quantile1 -(1.5 * iqr)   # lowe bound limit value  limit range\n",
        "upper_bound_val = quantile3 +(1.5 * iqr)   # upperbound datas set value  limit  rang"
      ]
    },
    {
      "cell_type": "code",
      "execution_count": null,
      "metadata": {
        "id": "CNuRb1gEM121",
        "outputId": "f9f042b6-1b2e-4500-e1e1-2e6adb452ce7"
      },
      "outputs": [
        {
          "name": "stdout",
          "output_type": "stream",
          "text": [
            "7.5 19.5\n"
          ]
        }
      ],
      "source": [
        "print(lower_bound_val,upper_bound_val)"
      ]
    },
    {
      "cell_type": "code",
      "execution_count": null,
      "metadata": {
        "id": "xvZbnt1PM121"
      },
      "outputs": [],
      "source": []
    }
  ],
  "metadata": {
    "kernelspec": {
      "display_name": "Python 3",
      "language": "python",
      "name": "python3"
    },
    "language_info": {
      "codemirror_mode": {
        "name": "ipython",
        "version": 3
      },
      "file_extension": ".py",
      "mimetype": "text/x-python",
      "name": "python",
      "nbconvert_exporter": "python",
      "pygments_lexer": "ipython3",
      "version": "3.6.7"
    },
    "colab": {
      "provenance": []
    }
  },
  "nbformat": 4,
  "nbformat_minor": 0
}